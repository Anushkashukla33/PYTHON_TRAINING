{
  "nbformat": 4,
  "nbformat_minor": 0,
  "metadata": {
    "colab": {
      "provenance": []
    },
    "kernelspec": {
      "name": "python3",
      "display_name": "Python 3"
    },
    "language_info": {
      "name": "python"
    }
  },
  "cells": [
    {
      "cell_type": "code",
      "execution_count": null,
      "metadata": {
        "colab": {
          "base_uri": "https://localhost:8080/"
        },
        "id": "weC6ikqCIDFX",
        "outputId": "29817237-15be-4006-9e30-37dbbbc3b5c1"
      },
      "outputs": [
        {
          "output_type": "stream",
          "name": "stdout",
          "text": [
            "hare krishna\n"
          ]
        }
      ],
      "source": [
        "\"\"\" functions r of 2 typees input and output  and print is an output fun\"\"\"\n",
        "print(\"hare krishna\")"
      ]
    },
    {
      "cell_type": "code",
      "source": [
        "# multiline print\n",
        "print(\"\"\"hey radhe\n",
        "hare rama\n",
        "rama rama hare hare\"\"\")"
      ],
      "metadata": {
        "colab": {
          "base_uri": "https://localhost:8080/"
        },
        "id": "vlhqN5iuJq3P",
        "outputId": "cefa82c0-7aaa-4f19-f9e9-9bf9b31c160c"
      },
      "execution_count": null,
      "outputs": [
        {
          "output_type": "stream",
          "name": "stdout",
          "text": [
            "hey radhe\n",
            "hare rama\n",
            "rama rama hare hare\n"
          ]
        }
      ]
    },
    {
      "cell_type": "code",
      "source": [
        "###commments are of 2 types singleline(#) and multiline(\"\"\" \"\"\")\n",
        " ###comments which the interpreter ignores during execution\n",
        "# hey radhe\n"
      ],
      "metadata": {
        "id": "C2q2IL5aIpDE"
      },
      "execution_count": null,
      "outputs": []
    },
    {
      "cell_type": "markdown",
      "source": [
        "**variables`**"
      ],
      "metadata": {
        "id": "PmQGdslkLwU5"
      }
    },
    {
      "cell_type": "markdown",
      "source": [
        "int a1,b1 # declaton    \n",
        "\n",
        "\n",
        "= assignment operator\n",
        "\n",
        "\n",
        "\n",
        "\n",
        "a1=10 # intializaion"
      ],
      "metadata": {
        "id": "0tz3f62MLT-p"
      }
    },
    {
      "cell_type": "code",
      "source": [
        "int a1,b1 # declaton\n",
        "a1=10 # intializaion"
      ],
      "metadata": {
        "id": "4UpwDVy2Keob"
      },
      "execution_count": null,
      "outputs": []
    },
    {
      "cell_type": "markdown",
      "source": [
        "**variables rules**"
      ],
      "metadata": {
        "id": "YIyAYGikMNOC"
      }
    },
    {
      "cell_type": "markdown",
      "source": [
        "properly define\n",
        "\n",
        "\n",
        "do not start with numbers ans special symbol\n",
        "\n",
        "\n",
        "use capital when to highlight special variable (higher priorities given to varible)"
      ],
      "metadata": {
        "id": "x4F9Js-xMVoj"
      }
    },
    {
      "cell_type": "code",
      "source": [
        "num1=1\n",
        "num2=2\n",
        "sum=num1+num2\n",
        "print(\"sum of 2 numbers is \",sum)"
      ],
      "metadata": {
        "colab": {
          "base_uri": "https://localhost:8080/"
        },
        "id": "X2f8FGO6MU3N",
        "outputId": "fb25e223-b7c8-4809-c29b-a71df932f7a1"
      },
      "execution_count": null,
      "outputs": [
        {
          "output_type": "stream",
          "name": "stdout",
          "text": [
            "sum of 2 numbers is  3\n"
          ]
        }
      ]
    },
    {
      "cell_type": "markdown",
      "source": [
        "**identifier**"
      ],
      "metadata": {
        "id": "2nglkgD0OguL"
      }
    },
    {
      "cell_type": "markdown",
      "source": [
        "give rules to variables\n",
        "\n",
        "\n"
      ],
      "metadata": {
        "id": "SaXqVH3hOm7n"
      }
    },
    {
      "cell_type": "markdown",
      "source": [
        "**keywords**"
      ],
      "metadata": {
        "id": "V8v7buPOVevU"
      }
    },
    {
      "cell_type": "code",
      "source": [
        "import keyword\n",
        "print(keyword.kwlist)"
      ],
      "metadata": {
        "id": "8ZLXjGy_MMoE"
      },
      "execution_count": null,
      "outputs": []
    },
    {
      "cell_type": "code",
      "source": [
        "import keyword\n",
        "print(keyword.kwlist)\n"
      ],
      "metadata": {
        "id": "iTYiW1LVLZnB",
        "colab": {
          "base_uri": "https://localhost:8080/"
        },
        "outputId": "466bfecb-6cb1-4afa-87e0-20ceb64a03fc"
      },
      "execution_count": null,
      "outputs": [
        {
          "output_type": "stream",
          "name": "stdout",
          "text": [
            "['False', 'None', 'True', 'and', 'as', 'assert', 'async', 'await', 'break', 'class', 'continue', 'def', 'del', 'elif', 'else', 'except', 'finally', 'for', 'from', 'global', 'if', 'import', 'in', 'is', 'lambda', 'nonlocal', 'not', 'or', 'pass', 'raise', 'return', 'try', 'while', 'with', 'yield']\n"
          ]
        }
      ]
    },
    {
      "cell_type": "code",
      "source": [
        "import numpy as np\n",
        "import pandas as pd\n",
        "len(keyword.kwlist)"
      ],
      "metadata": {
        "colab": {
          "base_uri": "https://localhost:8080/"
        },
        "id": "6mdX7EzXWsOX",
        "outputId": "0b3d0aac-b814-43e6-a785-bc4f02de77a1"
      },
      "execution_count": null,
      "outputs": [
        {
          "output_type": "execute_result",
          "data": {
            "text/plain": [
              "35"
            ]
          },
          "metadata": {},
          "execution_count": 19
        }
      ]
    },
    {
      "cell_type": "markdown",
      "source": [
        "# github per leetcode contain karo streks banao"
      ],
      "metadata": {
        "id": "4t__PYeyYHdI"
      }
    },
    {
      "cell_type": "markdown",
      "source": [
        "**operators** in **py**  (to perform operations)"
      ],
      "metadata": {
        "id": "zLsgsvAR0QQ4"
      }
    },
    {
      "cell_type": "markdown",
      "source": [
        "Arthmetic operator  +,/,*,%                                                       \n",
        "        modulo operator reminder deta hai %"
      ],
      "metadata": {
        "id": "sXIE-hkQ0VvC"
      }
    },
    {
      "cell_type": "code",
      "source": [
        "10//5"
      ],
      "metadata": {
        "colab": {
          "base_uri": "https://localhost:8080/"
        },
        "id": "ARFF98T53TPs",
        "outputId": "06684c3a-52da-444f-e884-d209b591a213"
      },
      "execution_count": null,
      "outputs": [
        {
          "output_type": "execute_result",
          "data": {
            "text/plain": [
              "2"
            ]
          },
          "metadata": {},
          "execution_count": 9
        }
      ]
    },
    {
      "cell_type": "code",
      "source": [
        "10/5"
      ],
      "metadata": {
        "colab": {
          "base_uri": "https://localhost:8080/"
        },
        "id": "DJguXe1r3N6-",
        "outputId": "394a36a9-affa-4a46-e7f3-02db949b87a4"
      },
      "execution_count": null,
      "outputs": [
        {
          "output_type": "execute_result",
          "data": {
            "text/plain": [
              "2.0"
            ]
          },
          "metadata": {},
          "execution_count": 8
        }
      ]
    },
    {
      "cell_type": "code",
      "source": [
        "10//2 # float division"
      ],
      "metadata": {
        "colab": {
          "base_uri": "https://localhost:8080/"
        },
        "id": "MmiEuECj1YBq",
        "outputId": "20cf6320-1068-4318-df3a-ec0a71706c83"
      },
      "execution_count": null,
      "outputs": [
        {
          "output_type": "execute_result",
          "data": {
            "text/plain": [
              "5"
            ]
          },
          "metadata": {},
          "execution_count": 3
        }
      ]
    },
    {
      "cell_type": "code",
      "source": [
        "10%5"
      ],
      "metadata": {
        "id": "a_R5vCiWXoDs",
        "colab": {
          "base_uri": "https://localhost:8080/"
        },
        "outputId": "82bffe47-94c8-49a6-c5e7-afbfc7f06d59"
      },
      "execution_count": null,
      "outputs": [
        {
          "output_type": "execute_result",
          "data": {
            "text/plain": [
              "0"
            ]
          },
          "metadata": {},
          "execution_count": 1
        }
      ]
    },
    {
      "cell_type": "markdown",
      "source": [
        "assignment operator =,+=,-=,%="
      ],
      "metadata": {
        "id": "tMGfA_6o1F0g"
      }
    },
    {
      "cell_type": "code",
      "source": [
        "a=10\n",
        "a+=1  #short hand opertor\n",
        "print(a)"
      ],
      "metadata": {
        "id": "bc94SbrHYYcc",
        "colab": {
          "base_uri": "https://localhost:8080/"
        },
        "outputId": "4fca1cb0-8d25-48e3-dd5d-5a0fe9f1f7b1"
      },
      "execution_count": null,
      "outputs": [
        {
          "output_type": "stream",
          "name": "stdout",
          "text": [
            "11\n"
          ]
        }
      ]
    },
    {
      "cell_type": "markdown",
      "source": [
        "logical operators  and ,or,not"
      ],
      "metadata": {
        "id": "i-_pfg0A1fua"
      }
    },
    {
      "cell_type": "markdown",
      "source": [
        "camparision operator <,>,==,<=,>=,!="
      ],
      "metadata": {
        "id": "chdOifR71mSV"
      }
    },
    {
      "cell_type": "code",
      "source": [
        "a=10\n",
        "b=20\n",
        "if a>b:\n",
        "    print(\"a is greater\")\n",
        "else:\n",
        "    print(\"b is greater\")"
      ],
      "metadata": {
        "colab": {
          "base_uri": "https://localhost:8080/"
        },
        "id": "akkSOWIK1qw8",
        "outputId": "bd0ca9ee-45ad-462f-8a15-2bae078a4489"
      },
      "execution_count": null,
      "outputs": [
        {
          "output_type": "stream",
          "name": "stdout",
          "text": [
            "b is greater\n"
          ]
        }
      ]
    },
    {
      "cell_type": "markdown",
      "source": [
        "bitwise operator ^,|,&"
      ],
      "metadata": {
        "id": "2c_glXVR2IDk"
      }
    },
    {
      "cell_type": "code",
      "source": [
        "3^2"
      ],
      "metadata": {
        "id": "U94NTuYIYYY2",
        "colab": {
          "base_uri": "https://localhost:8080/"
        },
        "outputId": "c38d3b95-e39d-4455-9656-c8e6f094cbc9"
      },
      "execution_count": null,
      "outputs": [
        {
          "output_type": "execute_result",
          "data": {
            "text/plain": [
              "1"
            ]
          },
          "metadata": {},
          "execution_count": 5
        }
      ]
    },
    {
      "cell_type": "code",
      "source": [
        "3|2"
      ],
      "metadata": {
        "id": "NqmdEvJoYYUq",
        "colab": {
          "base_uri": "https://localhost:8080/"
        },
        "outputId": "5c8107e4-16d0-465d-e97f-36b8361645b7"
      },
      "execution_count": null,
      "outputs": [
        {
          "output_type": "execute_result",
          "data": {
            "text/plain": [
              "3"
            ]
          },
          "metadata": {},
          "execution_count": 6
        }
      ]
    },
    {
      "cell_type": "code",
      "source": [
        "4&6"
      ],
      "metadata": {
        "id": "J-WYZPqGYYRz",
        "colab": {
          "base_uri": "https://localhost:8080/"
        },
        "outputId": "077d8434-4210-4bfb-953b-4e1193ab2c8d"
      },
      "execution_count": null,
      "outputs": [
        {
          "output_type": "execute_result",
          "data": {
            "text/plain": [
              "4"
            ]
          },
          "metadata": {},
          "execution_count": 7
        }
      ]
    },
    {
      "cell_type": "markdown",
      "source": [
        "tilited operation\n",
        "\n",
        "\n",
        "positive start from 0-9\n",
        "\n",
        "\n",
        "\n",
        "\n",
        "and negative -1 to -9"
      ],
      "metadata": {
        "id": "feqvBVYq4J0f"
      }
    },
    {
      "cell_type": "code",
      "source": [
        "~3"
      ],
      "metadata": {
        "colab": {
          "base_uri": "https://localhost:8080/"
        },
        "id": "nKDCdrUy3lTI",
        "outputId": "18fadb22-a059-416f-d3c6-5809b78f659b"
      },
      "execution_count": null,
      "outputs": [
        {
          "output_type": "execute_result",
          "data": {
            "text/plain": [
              "-4"
            ]
          },
          "metadata": {},
          "execution_count": 10
        }
      ]
    },
    {
      "cell_type": "code",
      "source": [
        "~(-4)"
      ],
      "metadata": {
        "colab": {
          "base_uri": "https://localhost:8080/"
        },
        "id": "QfNiy2W13lNb",
        "outputId": "8b035dde-5b83-4193-84cc-ee4773f5d0fc"
      },
      "execution_count": null,
      "outputs": [
        {
          "output_type": "execute_result",
          "data": {
            "text/plain": [
              "3"
            ]
          },
          "metadata": {},
          "execution_count": 11
        }
      ]
    },
    {
      "cell_type": "code",
      "source": [
        "a,b=10,20\n",
        "print(\"a\",a)\n",
        "print(\"b\",b)"
      ],
      "metadata": {
        "colab": {
          "base_uri": "https://localhost:8080/"
        },
        "id": "1s6BrbOy4aSy",
        "outputId": "052b34b1-fac4-4ddc-9382-b6dc32ae9ff3"
      },
      "execution_count": null,
      "outputs": [
        {
          "output_type": "stream",
          "name": "stdout",
          "text": [
            "a 10\n",
            "b 20\n"
          ]
        }
      ]
    },
    {
      "cell_type": "code",
      "source": [
        "a=b=10\n",
        "print(\"a\",a)\n",
        "print(\"b\",b)"
      ],
      "metadata": {
        "colab": {
          "base_uri": "https://localhost:8080/"
        },
        "id": "p0Vn24EH4aNB",
        "outputId": "cda7a787-9bf3-4b7b-9a46-d63b8548aedd"
      },
      "execution_count": null,
      "outputs": [
        {
          "output_type": "stream",
          "name": "stdout",
          "text": [
            "a 10\n",
            "b 10\n"
          ]
        }
      ]
    },
    {
      "cell_type": "markdown",
      "source": [
        "swapping of two nos\n"
      ],
      "metadata": {
        "id": "g-jKD1074to5"
      }
    },
    {
      "cell_type": "code",
      "source": [
        "a,b=10,20\n",
        "print(\"a before\",a)\n",
        "print(\"b before\",b)\n",
        "a,b=b,a\n",
        "print(\"a after\",a)\n",
        "print(\"b after\",b)"
      ],
      "metadata": {
        "colab": {
          "base_uri": "https://localhost:8080/"
        },
        "id": "RiNoMHBy4aJO",
        "outputId": "28c737f5-7c97-49f7-a16f-62f8ea630707"
      },
      "execution_count": null,
      "outputs": [
        {
          "output_type": "stream",
          "name": "stdout",
          "text": [
            "a before 10\n",
            "b before 20\n",
            "a after 20\n",
            "b after 10\n"
          ]
        }
      ]
    },
    {
      "cell_type": "code",
      "source": [
        "a,b=10,20\n",
        "print(\"a before\",a)\n",
        "print(\"b before\",b)\n",
        "temp=a\n",
        "a=b\n",
        "b=temp\n",
        "print(\"a after\",a)\n",
        "print(\"b after\",b)\n"
      ],
      "metadata": {
        "colab": {
          "base_uri": "https://localhost:8080/"
        },
        "id": "Th0lVssz3lJ0",
        "outputId": "04ac817b-7858-4ba1-af75-de7e251ed229"
      },
      "execution_count": null,
      "outputs": [
        {
          "output_type": "stream",
          "name": "stdout",
          "text": [
            "a before 10\n",
            "b before 20\n",
            "a after 20\n",
            "b after 10\n"
          ]
        }
      ]
    },
    {
      "cell_type": "markdown",
      "source": [
        "**loops if else**"
      ],
      "metadata": {
        "id": "oAfE1J7--C6f"
      }
    },
    {
      "cell_type": "code",
      "source": [
        "no=int(input(\"enter a number\"))\n",
        "print(no)\n",
        "if no>0:\n",
        "    print(\"positive\")\n",
        "elif no<0:\n",
        "    print(\"negative\")\n",
        "else:\n",
        "  print(\"number is zero\")"
      ],
      "metadata": {
        "colab": {
          "base_uri": "https://localhost:8080/"
        },
        "id": "Yer6B6J_25xJ",
        "outputId": "991b8920-c6b8-4717-d6ac-389cf527e3da"
      },
      "execution_count": null,
      "outputs": [
        {
          "output_type": "stream",
          "name": "stdout",
          "text": [
            "enter a number-8\n",
            "-8\n",
            "negative\n"
          ]
        }
      ]
    },
    {
      "cell_type": "code",
      "source": [
        "total=int(input(\"enter a number\"))\n",
        "print(total)\n",
        "percentage=(total*100)/500\n",
        "print(percentage)\n",
        "if percentage>=60:\n",
        "  print(\"first class\")\n",
        "elif 50<=percentage<60:\n",
        "  print(\"second class\")\n",
        "elif 40<=percentage<50:\n",
        "  print(\"third class\")\n",
        "\n",
        "else:\n",
        "  print(\"better\")"
      ],
      "metadata": {
        "colab": {
          "base_uri": "https://localhost:8080/"
        },
        "id": "I8TIgDl093KP",
        "outputId": "0de11df4-c7a4-443b-9030-edb27f5e8071"
      },
      "execution_count": null,
      "outputs": [
        {
          "output_type": "stream",
          "name": "stdout",
          "text": [
            "enter a number450\n",
            "450\n",
            "90.0\n",
            "first class\n"
          ]
        }
      ]
    },
    {
      "cell_type": "code",
      "source": [
        "# 5 -7 lakh salary 5%tax cut jayenega 7<salaTY 10%"
      ],
      "metadata": {
        "id": "Zu5ZaZEIDvGx"
      },
      "execution_count": null,
      "outputs": []
    },
    {
      "cell_type": "code",
      "source": [
        "package=int(input(\"enter a number\"))\n",
        "print(package)\n",
        "if range(500000,700000):\n",
        "  tax=package*0.05\n",
        "  print(tax)\n",
        "  print(\"taxis\",tax)\n",
        "  inhand=package-tax\n",
        "  print(\"amonut inhand is\",inhand)\n",
        "elif range(700000,900000):\n",
        "  tax=package*0.1\n",
        "  print(\"taxis\",tax)\n",
        "  inhand=package-tax\n",
        "  print(\"amonut inhand is\",inhand)\n",
        "elif range(900000,1100000):\n",
        "  tax=package*0.2\n",
        "  print(\"taxis\",tax)\n",
        "  inhand=package-tax\n",
        "  print(\"amonut inhand is\",inhand)\n",
        "elif range(1100000,1300000):\n",
        "  tax=package*0.3\n",
        "  print(\"taxis\",tax)\n",
        "  inhand=package-tax\n",
        "  print(\"amonut inhand is\",inhand)\n",
        "elif range(1300000,1500000):\n",
        "  tax=package*0.4\n",
        "  print(\"taxis\",tax)\n",
        "  inhand=package-tax\n",
        "  print(\"amonut inhand is\",inhand)\n",
        "else:\n",
        "  tax=package*0.5\n",
        "  print(\"taxis\",tax)\n",
        "  inhand=package-tax\n",
        "  print(\"amonut inhand is\",inhand)"
      ],
      "metadata": {
        "colab": {
          "base_uri": "https://localhost:8080/"
        },
        "id": "--UN9BXJEJ0s",
        "outputId": "a7bdf933-6d81-4852-be75-a09a21bc320c"
      },
      "execution_count": null,
      "outputs": [
        {
          "output_type": "stream",
          "name": "stdout",
          "text": [
            "enter a number1700000\n",
            "1700000\n",
            "85000.0\n",
            "taxis 85000.0\n",
            "amonut inhand is 1615000.0\n"
          ]
        }
      ]
    },
    {
      "cell_type": "markdown",
      "source": [
        "**leap year **"
      ],
      "metadata": {
        "id": "AfFGfF9mHtuu"
      }
    },
    {
      "cell_type": "markdown",
      "source": [
        "3 nos me se 2nd grater konsa h print karo\n"
      ],
      "metadata": {
        "id": "IN5dYji9InZ7"
      }
    },
    {
      "cell_type": "code",
      "source": [
        "no1=int(input(\"enter a number\"))\n",
        "no2=int(input(\"enter a number\"))\n",
        "no3=int(input(\"enter a number\"))\n",
        "if no1<no2 and no3<no2:\n",
        "  print(\"no2 is greater\")\n",
        "elif  no1<no\n",
        "  print(no3)\n",
        "elif no1<no3 and no2<no3 or no2<no1:\n",
        "  print(\"no3 is greater\")\n",
        "  print(no1)\n",
        "elif no2<no1 and no3<no1 or no3<no2:\n",
        "  print(\"no1 is greater\")\n",
        "  print(no2)\n",
        "else:\n",
        "  print(\"all are equal\")\n"
      ],
      "metadata": {
        "colab": {
          "base_uri": "https://localhost:8080/"
        },
        "id": "YsRLdEguIxjm",
        "outputId": "e7f987b6-db9d-43ff-d02d-39fb6fb1e44e"
      },
      "execution_count": null,
      "outputs": [
        {
          "output_type": "stream",
          "name": "stdout",
          "text": [
            "enter a number4\n",
            "enter a number7\n",
            "enter a number0\n",
            "no2 is greater\n",
            "0\n"
          ]
        }
      ]
    },
    {
      "cell_type": "code",
      "source": [
        "a = int(input(\"Enter the first number: \"))\n",
        "b= int(input(\"Enter the second number: \"))\n",
        "c = int(input(\"Enter the third number: \"))\n",
        "if(a>b and a<c) or (a<b and a>c):\n",
        "  print(a)\n",
        "elif(b>a and b<c) or (b<a and b>c):\n",
        "  print(b)\n",
        "else:\n",
        "  print(c)\n"
      ],
      "metadata": {
        "colab": {
          "base_uri": "https://localhost:8080/"
        },
        "id": "05K5Fvg6-q8x",
        "outputId": "a4ea4b75-3c14-4661-dba6-555a942b62e4"
      },
      "execution_count": null,
      "outputs": [
        {
          "output_type": "stream",
          "name": "stdout",
          "text": [
            "Enter the first number: 4\n",
            "Enter the second number: 6\n",
            "Enter the third number: 0\n",
            "4\n"
          ]
        }
      ]
    },
    {
      "cell_type": "markdown",
      "source": [
        "with out if else find largest 2 no\n"
      ],
      "metadata": {
        "id": "tSMCtnVzMKiZ"
      }
    },
    {
      "cell_type": "code",
      "source": [
        "no1=int(input(\"enter a number\"))\n",
        "no2=int(input(\"enter a number\"))\n",
        "no3=int(input(\"enter a number\"))\n",
        "second_largest=no1+no2+no3-max(no1,no2,no3)-min(no1,no2,no3)\n",
        "print(\"second_largest\",second_largest)\n"
      ],
      "metadata": {
        "colab": {
          "base_uri": "https://localhost:8080/"
        },
        "id": "ct-xqtv6LiHx",
        "outputId": "6937b81a-023f-4e2d-81be-7383f5762198"
      },
      "execution_count": null,
      "outputs": [
        {
          "output_type": "stream",
          "name": "stdout",
          "text": [
            "enter a number5\n",
            "enter a number0\n",
            "enter a number9\n",
            "second_largest 5\n"
          ]
        }
      ]
    },
    {
      "cell_type": "markdown",
      "source": [],
      "metadata": {
        "id": "gIBMdq58NeEJ"
      }
    },
    {
      "cell_type": "code",
      "source": [
        "num=int(input(\"enter a number\"))\n",
        "if num%4==0:\n",
        "  print(\"True\")\n",
        "else:\n",
        "  print(\"False\")"
      ],
      "metadata": {
        "colab": {
          "base_uri": "https://localhost:8080/"
        },
        "id": "wDcjWVigMjfE",
        "outputId": "525924b2-2759-4281-8293-a5c3e43410c8"
      },
      "execution_count": null,
      "outputs": [
        {
          "output_type": "stream",
          "name": "stdout",
          "text": [
            "enter a number7\n",
            "False\n"
          ]
        }
      ]
    },
    {
      "cell_type": "code",
      "source": [
        "\n",
        "import math\n",
        "pow(2,4)\n",
        "pow(2,2)"
      ],
      "metadata": {
        "colab": {
          "base_uri": "https://localhost:8080/"
        },
        "id": "ZZTjK3TmN-9g",
        "outputId": "bb4df39e-6ac6-4e8a-fd65-173b59b6abe4"
      },
      "execution_count": null,
      "outputs": [
        {
          "output_type": "execute_result",
          "data": {
            "text/plain": [
              "4"
            ]
          },
          "metadata": {},
          "execution_count": 49
        }
      ]
    },
    {
      "cell_type": "code",
      "source": [
        "num=int(input(\"enter a number\"))\n",
        "a=pow(4,num)\n",
        "if a%4==0:\n",
        "  print(\"True\")\n",
        "else:\n",
        "  print(\"False\")\n"
      ],
      "metadata": {
        "colab": {
          "base_uri": "https://localhost:8080/"
        },
        "id": "OblyuuDkOBOn",
        "outputId": "923e5386-7691-4ae7-c23a-6b4d2bc0078a"
      },
      "execution_count": null,
      "outputs": [
        {
          "output_type": "stream",
          "name": "stdout",
          "text": [
            "enter a number7\n",
            "True\n"
          ]
        }
      ]
    },
    {
      "cell_type": "code",
      "source": [
        "num=int(input(\"enter a number\"))\n",
        "if(num//4)%4==0 and num>0: # perfect remender aana chahiye\n",
        "  print(\"True\")\n",
        "elif num==1:\n",
        "  print(\"true\")\n",
        "else:\n",
        "  print(\"False\")"
      ],
      "metadata": {
        "colab": {
          "base_uri": "https://localhost:8080/"
        },
        "id": "Jl0kDgUBRVIL",
        "outputId": "32eba07b-328f-4e83-f7d5-1688799d5857"
      },
      "execution_count": null,
      "outputs": [
        {
          "output_type": "stream",
          "name": "stdout",
          "text": [
            "enter a number7\n",
            "False\n"
          ]
        }
      ]
    },
    {
      "cell_type": "code",
      "source": [],
      "metadata": {
        "id": "aYe2AjajRXv2"
      },
      "execution_count": null,
      "outputs": []
    }
  ]
}